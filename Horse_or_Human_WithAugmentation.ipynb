{
  "nbformat": 4,
  "nbformat_minor": 0,
  "metadata": {
    "colab": {
      "name": "Horse-or-Human-WithAugmentation.ipynb",
      "version": "0.3.2",
      "provenance": [],
      "collapsed_sections": [],
      "toc_visible": true
    },
    "kernelspec": {
      "name": "python3",
      "display_name": "Python 3"
    },
    "accelerator": "GPU"
  },
  "cells": [
    {
      "cell_type": "code",
      "metadata": {
        "colab_type": "code",
        "id": "RXZT2UsyIVe_",
        "colab": {
          "base_uri": "https://localhost:8080/",
          "height": 391
        },
        "outputId": "fd99d917-2b8c-46ca-d48b-8ed36fba296d"
      },
      "source": [
        "!wget --no-check-certificate \\\n",
        "    https://storage.googleapis.com/laurencemoroney-blog.appspot.com/horse-or-human.zip \\\n",
        "    -O /tmp/horse-or-human.zip\n",
        "\n",
        "!wget --no-check-certificate \\\n",
        "    https://storage.googleapis.com/laurencemoroney-blog.appspot.com/validation-horse-or-human.zip \\\n",
        "    -O /tmp/validation-horse-or-human.zip\n",
        "  \n",
        "import os\n",
        "import zipfile\n",
        "\n",
        "local_zip = '/tmp/horse-or-human.zip'\n",
        "zip_ref = zipfile.ZipFile(local_zip, 'r')\n",
        "zip_ref.extractall('/tmp/horse-or-human')\n",
        "local_zip = '/tmp/validation-horse-or-human.zip'\n",
        "zip_ref = zipfile.ZipFile(local_zip, 'r')\n",
        "zip_ref.extractall('/tmp/validation-horse-or-human')\n",
        "zip_ref.close()\n",
        "# Directory with our training horse pictures\n",
        "train_horse_dir = os.path.join('/tmp/horse-or-human/horses')\n",
        "\n",
        "# Directory with our training human pictures\n",
        "train_human_dir = os.path.join('/tmp/horse-or-human/humans')\n",
        "\n",
        "# Directory with our training horse pictures\n",
        "validation_horse_dir = os.path.join('/tmp/validation-horse-or-human/horses')\n",
        "\n",
        "# Directory with our training human pictures\n",
        "validation_human_dir = os.path.join('/tmp/validation-horse-or-human/humans')"
      ],
      "execution_count": 1,
      "outputs": [
        {
          "output_type": "stream",
          "text": [
            "--2019-08-12 04:55:20--  https://storage.googleapis.com/laurencemoroney-blog.appspot.com/horse-or-human.zip\n",
            "Resolving storage.googleapis.com (storage.googleapis.com)... 74.125.204.128, 2404:6800:4008:c00::80\n",
            "Connecting to storage.googleapis.com (storage.googleapis.com)|74.125.204.128|:443... connected.\n",
            "HTTP request sent, awaiting response... 200 OK\n",
            "Length: 149574867 (143M) [application/zip]\n",
            "Saving to: ‘/tmp/horse-or-human.zip’\n",
            "\n",
            "/tmp/horse-or-human 100%[===================>] 142.65M  43.8MB/s    in 3.3s    \n",
            "\n",
            "2019-08-12 04:55:24 (43.8 MB/s) - ‘/tmp/horse-or-human.zip’ saved [149574867/149574867]\n",
            "\n",
            "--2019-08-12 04:55:26--  https://storage.googleapis.com/laurencemoroney-blog.appspot.com/validation-horse-or-human.zip\n",
            "Resolving storage.googleapis.com (storage.googleapis.com)... 74.125.204.128, 2404:6800:4008:c04::80\n",
            "Connecting to storage.googleapis.com (storage.googleapis.com)|74.125.204.128|:443... connected.\n",
            "HTTP request sent, awaiting response... 200 OK\n",
            "Length: 11480187 (11M) [application/zip]\n",
            "Saving to: ‘/tmp/validation-horse-or-human.zip’\n",
            "\n",
            "/tmp/validation-hor 100%[===================>]  10.95M  30.3MB/s    in 0.4s    \n",
            "\n",
            "2019-08-12 04:55:27 (30.3 MB/s) - ‘/tmp/validation-horse-or-human.zip’ saved [11480187/11480187]\n",
            "\n"
          ],
          "name": "stdout"
        }
      ]
    },
    {
      "cell_type": "markdown",
      "metadata": {
        "colab_type": "text",
        "id": "5oqBkNBJmtUv"
      },
      "source": [
        "## Building a Small Model from Scratch\n",
        "\n",
        "But before we continue, let's start defining the model:\n",
        "\n",
        "Step 1 will be to import tensorflow."
      ]
    },
    {
      "cell_type": "code",
      "metadata": {
        "id": "qvfZg3LQbD-5",
        "colab_type": "code",
        "colab": {}
      },
      "source": [
        "import tensorflow as tf"
      ],
      "execution_count": 0,
      "outputs": []
    },
    {
      "cell_type": "markdown",
      "metadata": {
        "colab_type": "text",
        "id": "BnhYCP4tdqjC"
      },
      "source": [
        "We then add convolutional layers as in the previous example, and flatten the final result to feed into the densely connected layers."
      ]
    },
    {
      "cell_type": "markdown",
      "metadata": {
        "id": "gokG5HKpdtzm",
        "colab_type": "text"
      },
      "source": [
        "Finally we add the densely connected layers. \n",
        "\n",
        "Note that because we are facing a two-class classification problem, i.e. a *binary classification problem*, we will end our network with a [*sigmoid* activation](https://wikipedia.org/wiki/Sigmoid_function), so that the output of our network will be a single scalar between 0 and 1, encoding the probability that the current image is class 1 (as opposed to class 0)."
      ]
    },
    {
      "cell_type": "code",
      "metadata": {
        "id": "PixZ2s5QbYQ3",
        "colab_type": "code",
        "colab": {
          "base_uri": "https://localhost:8080/",
          "height": 105
        },
        "outputId": "e207b139-1332-487e-d0df-f7101b59058f"
      },
      "source": [
        "model = tf.keras.models.Sequential([\n",
        "    # Note the input shape is the desired size of the image 300x300 with 3 bytes color\n",
        "    # This is the first convolution\n",
        "    tf.keras.layers.Conv2D(16, (3,3), activation='relu', input_shape=(300, 300, 3)),\n",
        "    tf.keras.layers.MaxPooling2D(2, 2),\n",
        "    # The second convolution\n",
        "    tf.keras.layers.Conv2D(32, (3,3), activation='relu'),\n",
        "    tf.keras.layers.MaxPooling2D(2,2),\n",
        "    # The third convolution\n",
        "    tf.keras.layers.Conv2D(64, (3,3), activation='relu'),\n",
        "    tf.keras.layers.MaxPooling2D(2,2),\n",
        "    # The fourth convolution\n",
        "    tf.keras.layers.Conv2D(64, (3,3), activation='relu'),\n",
        "    tf.keras.layers.MaxPooling2D(2,2),\n",
        "    # The fifth convolution\n",
        "    tf.keras.layers.Conv2D(64, (3,3), activation='relu'),\n",
        "    tf.keras.layers.MaxPooling2D(2,2),\n",
        "    # Flatten the results to feed into a DNN\n",
        "    tf.keras.layers.Flatten(),\n",
        "    # 512 neuron hidden layer\n",
        "    tf.keras.layers.Dense(512, activation='relu'),\n",
        "    # Only 1 output neuron. It will contain a value from 0-1 where 0 for 1 class ('horses') and 1 for the other ('humans')\n",
        "    tf.keras.layers.Dense(1, activation='sigmoid')\n",
        "])"
      ],
      "execution_count": 3,
      "outputs": [
        {
          "output_type": "stream",
          "text": [
            "WARNING: Logging before flag parsing goes to stderr.\n",
            "W0812 04:55:33.095462 139856483309440 deprecation.py:506] From /usr/local/lib/python3.6/dist-packages/tensorflow/python/ops/init_ops.py:1251: calling VarianceScaling.__init__ (from tensorflow.python.ops.init_ops) with dtype is deprecated and will be removed in a future version.\n",
            "Instructions for updating:\n",
            "Call initializer instance with the dtype argument instead of passing it to the constructor\n"
          ],
          "name": "stderr"
        }
      ]
    },
    {
      "cell_type": "code",
      "metadata": {
        "colab_type": "code",
        "id": "8DHWhFP_uhq3",
        "colab": {
          "base_uri": "https://localhost:8080/",
          "height": 88
        },
        "outputId": "b91c7b94-4167-4a8a-d291-1cfb3004f2b8"
      },
      "source": [
        "from tensorflow.keras.optimizers import RMSprop\n",
        "\n",
        "model.compile(loss='binary_crossentropy',\n",
        "              optimizer=RMSprop(lr=1e-4),\n",
        "              metrics=['acc'])"
      ],
      "execution_count": 4,
      "outputs": [
        {
          "output_type": "stream",
          "text": [
            "W0812 04:55:33.404952 139856483309440 deprecation.py:323] From /usr/local/lib/python3.6/dist-packages/tensorflow/python/ops/nn_impl.py:180: add_dispatch_support.<locals>.wrapper (from tensorflow.python.ops.array_ops) is deprecated and will be removed in a future version.\n",
            "Instructions for updating:\n",
            "Use tf.where in 2.0, which has the same broadcast rule as np.where\n"
          ],
          "name": "stderr"
        }
      ]
    },
    {
      "cell_type": "code",
      "metadata": {
        "colab_type": "code",
        "id": "ClebU9NJg99G",
        "colab": {
          "base_uri": "https://localhost:8080/",
          "height": 51
        },
        "outputId": "66112a2d-3c5f-4e32-be52-956f5c785deb"
      },
      "source": [
        "from tensorflow.keras.preprocessing.image import ImageDataGenerator\n",
        "\n",
        "# All images will be rescaled by 1./255\n",
        "train_datagen = ImageDataGenerator(\n",
        "      rescale=1./255,\n",
        "      rotation_range=40,\n",
        "      width_shift_range=0.2,\n",
        "      height_shift_range=0.2,\n",
        "      shear_range=0.2,\n",
        "      zoom_range=0.2,\n",
        "      horizontal_flip=True,\n",
        "      fill_mode='nearest')\n",
        "\n",
        "validation_datagen = ImageDataGenerator(rescale=1/255)\n",
        "\n",
        "# Flow training images in batches of 128 using train_datagen generator\n",
        "train_generator = train_datagen.flow_from_directory(\n",
        "        '/tmp/horse-or-human/',  # This is the source directory for training images\n",
        "        target_size=(300, 300),  # All images will be resized to 150x150\n",
        "        batch_size=128,\n",
        "        # Since we use binary_crossentropy loss, we need binary labels\n",
        "        class_mode='binary')\n",
        "\n",
        "# Flow training images in batches of 128 using train_datagen generator\n",
        "validation_generator = validation_datagen.flow_from_directory(\n",
        "        '/tmp/validation-horse-or-human/',  # This is the source directory for training images\n",
        "        target_size=(300, 300),  # All images will be resized to 150x150\n",
        "        batch_size=32,\n",
        "        # Since we use binary_crossentropy loss, we need binary labels\n",
        "        class_mode='binary')"
      ],
      "execution_count": 5,
      "outputs": [
        {
          "output_type": "stream",
          "text": [
            "Found 1027 images belonging to 2 classes.\n",
            "Found 256 images belonging to 2 classes.\n"
          ],
          "name": "stdout"
        }
      ]
    },
    {
      "cell_type": "code",
      "metadata": {
        "colab_type": "code",
        "id": "Fb1_lgobv81m",
        "colab": {
          "base_uri": "https://localhost:8080/",
          "height": 1000
        },
        "outputId": "181be229-f427-4d65-d2ec-bc1a8886c905"
      },
      "source": [
        "history = model.fit_generator(\n",
        "      train_generator,\n",
        "      steps_per_epoch=8,  \n",
        "      epochs=100,\n",
        "      verbose=1,\n",
        "      validation_data = validation_generator,\n",
        "      validation_steps=8)"
      ],
      "execution_count": 6,
      "outputs": [
        {
          "output_type": "stream",
          "text": [
            "Epoch 1/100\n",
            "8/8 [==============================] - 25s 3s/step - loss: 0.6785 - acc: 0.5706 - val_loss: 0.6829 - val_acc: 0.5000\n",
            "Epoch 2/100\n",
            "8/8 [==============================] - 26s 3s/step - loss: 0.6273 - acc: 0.7061 - val_loss: 0.6426 - val_acc: 0.5703\n",
            "Epoch 3/100\n",
            "8/8 [==============================] - 20s 3s/step - loss: 0.6157 - acc: 0.6912 - val_loss: 0.6708 - val_acc: 0.5039\n",
            "Epoch 4/100\n",
            "8/8 [==============================] - 26s 3s/step - loss: 0.5829 - acc: 0.6943 - val_loss: 0.7834 - val_acc: 0.5000\n",
            "Epoch 5/100\n",
            "8/8 [==============================] - 23s 3s/step - loss: 0.5653 - acc: 0.7030 - val_loss: 0.6699 - val_acc: 0.5195\n",
            "Epoch 6/100\n",
            "8/8 [==============================] - 23s 3s/step - loss: 0.5878 - acc: 0.7219 - val_loss: 0.8261 - val_acc: 0.5000\n",
            "Epoch 7/100\n",
            "8/8 [==============================] - 23s 3s/step - loss: 0.5259 - acc: 0.7330 - val_loss: 1.0278 - val_acc: 0.5000\n",
            "Epoch 8/100\n",
            "8/8 [==============================] - 20s 2s/step - loss: 0.5030 - acc: 0.7416 - val_loss: 0.6553 - val_acc: 0.5508\n",
            "Epoch 9/100\n",
            "8/8 [==============================] - 27s 3s/step - loss: 0.5267 - acc: 0.7568 - val_loss: 0.6826 - val_acc: 0.5352\n",
            "Epoch 10/100\n",
            "8/8 [==============================] - 24s 3s/step - loss: 0.5034 - acc: 0.7475 - val_loss: 0.7623 - val_acc: 0.5195\n",
            "Epoch 11/100\n",
            "8/8 [==============================] - 27s 3s/step - loss: 0.5129 - acc: 0.7568 - val_loss: 0.8947 - val_acc: 0.5156\n",
            "Epoch 12/100\n",
            "8/8 [==============================] - 21s 3s/step - loss: 0.4572 - acc: 0.7597 - val_loss: 0.8486 - val_acc: 0.5234\n",
            "Epoch 13/100\n",
            "8/8 [==============================] - 24s 3s/step - loss: 0.5519 - acc: 0.7642 - val_loss: 0.4494 - val_acc: 0.8398\n",
            "Epoch 14/100\n",
            "8/8 [==============================] - 24s 3s/step - loss: 0.5564 - acc: 0.7553 - val_loss: 1.5411 - val_acc: 0.5000\n",
            "Epoch 15/100\n",
            "8/8 [==============================] - 27s 3s/step - loss: 0.4845 - acc: 0.7773 - val_loss: 1.1160 - val_acc: 0.5078\n",
            "Epoch 16/100\n",
            "8/8 [==============================] - 24s 3s/step - loss: 0.4631 - acc: 0.8020 - val_loss: 1.1989 - val_acc: 0.5078\n",
            "Epoch 17/100\n",
            "8/8 [==============================] - 24s 3s/step - loss: 0.4691 - acc: 0.7631 - val_loss: 0.7261 - val_acc: 0.5703\n",
            "Epoch 18/100\n",
            "8/8 [==============================] - 24s 3s/step - loss: 0.4182 - acc: 0.7887 - val_loss: 0.5794 - val_acc: 0.6758\n",
            "Epoch 19/100\n",
            "8/8 [==============================] - 23s 3s/step - loss: 0.4655 - acc: 0.7853 - val_loss: 1.4442 - val_acc: 0.5000\n",
            "Epoch 20/100\n",
            "8/8 [==============================] - 31s 4s/step - loss: 0.4245 - acc: 0.8018 - val_loss: 1.3902 - val_acc: 0.5078\n",
            "Epoch 21/100\n",
            "8/8 [==============================] - 21s 3s/step - loss: 0.4058 - acc: 0.7817 - val_loss: 0.9315 - val_acc: 0.5352\n",
            "Epoch 22/100\n",
            "8/8 [==============================] - 24s 3s/step - loss: 0.3944 - acc: 0.8120 - val_loss: 1.7058 - val_acc: 0.5039\n",
            "Epoch 23/100\n",
            "8/8 [==============================] - 27s 3s/step - loss: 0.4031 - acc: 0.8291 - val_loss: 1.2267 - val_acc: 0.5273\n",
            "Epoch 24/100\n",
            "8/8 [==============================] - 21s 3s/step - loss: 0.4171 - acc: 0.7636 - val_loss: 1.1968 - val_acc: 0.5273\n",
            "Epoch 25/100\n",
            "8/8 [==============================] - 27s 3s/step - loss: 0.4021 - acc: 0.8213 - val_loss: 0.9507 - val_acc: 0.5859\n",
            "Epoch 26/100\n",
            "8/8 [==============================] - 24s 3s/step - loss: 0.3927 - acc: 0.8053 - val_loss: 1.3860 - val_acc: 0.5273\n",
            "Epoch 27/100\n",
            "8/8 [==============================] - 24s 3s/step - loss: 0.3919 - acc: 0.8009 - val_loss: 0.7435 - val_acc: 0.6602\n",
            "Epoch 28/100\n",
            "8/8 [==============================] - 24s 3s/step - loss: 0.4172 - acc: 0.8198 - val_loss: 1.4683 - val_acc: 0.5234\n",
            "Epoch 29/100\n",
            "8/8 [==============================] - 27s 3s/step - loss: 0.3450 - acc: 0.8428 - val_loss: 1.6974 - val_acc: 0.5156\n",
            "Epoch 30/100\n",
            "8/8 [==============================] - 21s 3s/step - loss: 0.3852 - acc: 0.8204 - val_loss: 1.7600 - val_acc: 0.5156\n",
            "Epoch 31/100\n",
            "8/8 [==============================] - 24s 3s/step - loss: 0.3589 - acc: 0.8231 - val_loss: 1.3964 - val_acc: 0.5430\n",
            "Epoch 32/100\n",
            "8/8 [==============================] - 23s 3s/step - loss: 0.3197 - acc: 0.8710 - val_loss: 0.4911 - val_acc: 0.7969\n",
            "Epoch 33/100\n",
            "8/8 [==============================] - 27s 3s/step - loss: 0.3911 - acc: 0.8320 - val_loss: 1.3241 - val_acc: 0.5703\n",
            "Epoch 34/100\n",
            "8/8 [==============================] - 24s 3s/step - loss: 0.4388 - acc: 0.8298 - val_loss: 1.6821 - val_acc: 0.5273\n",
            "Epoch 35/100\n",
            "8/8 [==============================] - 23s 3s/step - loss: 0.3095 - acc: 0.8676 - val_loss: 1.7609 - val_acc: 0.5234\n",
            "Epoch 36/100\n",
            "8/8 [==============================] - 23s 3s/step - loss: 0.3154 - acc: 0.8354 - val_loss: 2.1015 - val_acc: 0.5156\n",
            "Epoch 37/100\n",
            "8/8 [==============================] - 24s 3s/step - loss: 0.3135 - acc: 0.8509 - val_loss: 2.1881 - val_acc: 0.5156\n",
            "Epoch 38/100\n",
            "8/8 [==============================] - 27s 3s/step - loss: 0.3150 - acc: 0.8691 - val_loss: 1.0353 - val_acc: 0.6523\n",
            "Epoch 39/100\n",
            "8/8 [==============================] - 20s 3s/step - loss: 0.4254 - acc: 0.8269 - val_loss: 2.0826 - val_acc: 0.5156\n",
            "Epoch 40/100\n",
            "8/8 [==============================] - 23s 3s/step - loss: 0.2892 - acc: 0.8565 - val_loss: 1.4146 - val_acc: 0.5781\n",
            "Epoch 41/100\n",
            "8/8 [==============================] - 27s 3s/step - loss: 0.3321 - acc: 0.8340 - val_loss: 2.2089 - val_acc: 0.5156\n",
            "Epoch 42/100\n",
            "8/8 [==============================] - 24s 3s/step - loss: 0.3054 - acc: 0.8699 - val_loss: 2.4753 - val_acc: 0.5156\n",
            "Epoch 43/100\n",
            "8/8 [==============================] - 24s 3s/step - loss: 0.3323 - acc: 0.8576 - val_loss: 1.7612 - val_acc: 0.5469\n",
            "Epoch 44/100\n",
            "8/8 [==============================] - 23s 3s/step - loss: 0.3166 - acc: 0.8610 - val_loss: 1.3658 - val_acc: 0.5898\n",
            "Epoch 45/100\n",
            "8/8 [==============================] - 23s 3s/step - loss: 0.3017 - acc: 0.8632 - val_loss: 1.9070 - val_acc: 0.5312\n",
            "Epoch 46/100\n",
            "8/8 [==============================] - 23s 3s/step - loss: 0.2828 - acc: 0.8721 - val_loss: 3.1959 - val_acc: 0.5039\n",
            "Epoch 47/100\n",
            "8/8 [==============================] - 27s 3s/step - loss: 0.3186 - acc: 0.8613 - val_loss: 1.8046 - val_acc: 0.5430\n",
            "Epoch 48/100\n",
            "8/8 [==============================] - 20s 3s/step - loss: 0.3174 - acc: 0.8682 - val_loss: 2.5021 - val_acc: 0.5078\n",
            "Epoch 49/100\n",
            "8/8 [==============================] - 27s 3s/step - loss: 0.2917 - acc: 0.8789 - val_loss: 1.9666 - val_acc: 0.5273\n",
            "Epoch 50/100\n",
            "8/8 [==============================] - 23s 3s/step - loss: 0.3934 - acc: 0.8687 - val_loss: 2.1981 - val_acc: 0.5234\n",
            "Epoch 51/100\n",
            "8/8 [==============================] - 23s 3s/step - loss: 0.2778 - acc: 0.8977 - val_loss: 1.9469 - val_acc: 0.5234\n",
            "Epoch 52/100\n",
            "8/8 [==============================] - 20s 3s/step - loss: 0.2559 - acc: 0.8902 - val_loss: 2.3863 - val_acc: 0.5117\n",
            "Epoch 53/100\n",
            "8/8 [==============================] - 27s 3s/step - loss: 0.2643 - acc: 0.8809 - val_loss: 1.7170 - val_acc: 0.5430\n",
            "Epoch 54/100\n",
            "8/8 [==============================] - 23s 3s/step - loss: 0.2448 - acc: 0.8854 - val_loss: 2.4991 - val_acc: 0.5156\n",
            "Epoch 55/100\n",
            "8/8 [==============================] - 24s 3s/step - loss: 0.2084 - acc: 0.9132 - val_loss: 3.0253 - val_acc: 0.5078\n",
            "Epoch 56/100\n",
            "8/8 [==============================] - 23s 3s/step - loss: 0.2692 - acc: 0.8610 - val_loss: 1.7802 - val_acc: 0.5586\n",
            "Epoch 57/100\n",
            "8/8 [==============================] - 23s 3s/step - loss: 0.2391 - acc: 0.9055 - val_loss: 1.9746 - val_acc: 0.5469\n",
            "Epoch 58/100\n",
            "8/8 [==============================] - 27s 3s/step - loss: 0.2249 - acc: 0.9033 - val_loss: 2.6544 - val_acc: 0.5156\n",
            "Epoch 59/100\n",
            "8/8 [==============================] - 24s 3s/step - loss: 0.2498 - acc: 0.8865 - val_loss: 3.2074 - val_acc: 0.5078\n",
            "Epoch 60/100\n",
            "8/8 [==============================] - 20s 3s/step - loss: 0.2640 - acc: 0.8928 - val_loss: 1.9153 - val_acc: 0.5430\n",
            "Epoch 61/100\n",
            "8/8 [==============================] - 27s 3s/step - loss: 0.2046 - acc: 0.9131 - val_loss: 3.2303 - val_acc: 0.5078\n",
            "Epoch 62/100\n",
            "8/8 [==============================] - 24s 3s/step - loss: 0.3060 - acc: 0.8576 - val_loss: 1.9101 - val_acc: 0.5430\n",
            "Epoch 63/100\n",
            "8/8 [==============================] - 24s 3s/step - loss: 0.1809 - acc: 0.9166 - val_loss: 2.8399 - val_acc: 0.5156\n",
            "Epoch 64/100\n",
            "8/8 [==============================] - 24s 3s/step - loss: 0.2911 - acc: 0.8954 - val_loss: 2.4321 - val_acc: 0.5391\n",
            "Epoch 65/100\n",
            "8/8 [==============================] - 24s 3s/step - loss: 0.1745 - acc: 0.9299 - val_loss: 2.3930 - val_acc: 0.5547\n",
            "Epoch 66/100\n",
            "8/8 [==============================] - 24s 3s/step - loss: 0.2295 - acc: 0.9010 - val_loss: 3.0711 - val_acc: 0.5117\n",
            "Epoch 67/100\n",
            "8/8 [==============================] - 24s 3s/step - loss: 0.2068 - acc: 0.9132 - val_loss: 3.4853 - val_acc: 0.5039\n",
            "Epoch 68/100\n",
            "8/8 [==============================] - 24s 3s/step - loss: 0.2128 - acc: 0.9077 - val_loss: 0.3606 - val_acc: 0.8633\n",
            "Epoch 69/100\n",
            "8/8 [==============================] - 24s 3s/step - loss: 0.2777 - acc: 0.8921 - val_loss: 2.8142 - val_acc: 0.5312\n",
            "Epoch 70/100\n",
            "8/8 [==============================] - 27s 3s/step - loss: 0.1754 - acc: 0.9326 - val_loss: 2.9366 - val_acc: 0.5352\n",
            "Epoch 71/100\n",
            "8/8 [==============================] - 24s 3s/step - loss: 0.2642 - acc: 0.8854 - val_loss: 2.7633 - val_acc: 0.5352\n",
            "Epoch 72/100\n",
            "8/8 [==============================] - 24s 3s/step - loss: 0.1397 - acc: 0.9466 - val_loss: 2.6761 - val_acc: 0.5430\n",
            "Epoch 73/100\n",
            "8/8 [==============================] - 27s 3s/step - loss: 0.1987 - acc: 0.9199 - val_loss: 3.9169 - val_acc: 0.5000\n",
            "Epoch 74/100\n",
            "8/8 [==============================] - 25s 3s/step - loss: 0.2201 - acc: 0.9455 - val_loss: 2.5796 - val_acc: 0.5430\n",
            "Epoch 75/100\n",
            "8/8 [==============================] - 20s 3s/step - loss: 0.2642 - acc: 0.8786 - val_loss: 2.7346 - val_acc: 0.5430\n",
            "Epoch 76/100\n",
            "8/8 [==============================] - 23s 3s/step - loss: 0.1561 - acc: 0.9355 - val_loss: 3.4025 - val_acc: 0.5156\n",
            "Epoch 77/100\n",
            "8/8 [==============================] - 23s 3s/step - loss: 0.1551 - acc: 0.9366 - val_loss: 1.7751 - val_acc: 0.6367\n",
            "Epoch 78/100\n",
            "8/8 [==============================] - 23s 3s/step - loss: 0.2116 - acc: 0.9055 - val_loss: 1.3363 - val_acc: 0.6875\n",
            "Epoch 79/100\n",
            "8/8 [==============================] - 26s 3s/step - loss: 0.1911 - acc: 0.9297 - val_loss: 2.1583 - val_acc: 0.5898\n",
            "Epoch 80/100\n",
            "8/8 [==============================] - 24s 3s/step - loss: 0.1970 - acc: 0.9210 - val_loss: 2.1871 - val_acc: 0.5742\n",
            "Epoch 81/100\n",
            "8/8 [==============================] - 23s 3s/step - loss: 0.1278 - acc: 0.9433 - val_loss: 3.5447 - val_acc: 0.5273\n",
            "Epoch 82/100\n",
            "8/8 [==============================] - 23s 3s/step - loss: 0.2034 - acc: 0.9199 - val_loss: 2.0462 - val_acc: 0.5820\n",
            "Epoch 83/100\n",
            "8/8 [==============================] - 23s 3s/step - loss: 0.1800 - acc: 0.9210 - val_loss: 2.8995 - val_acc: 0.5391\n",
            "Epoch 84/100\n",
            "8/8 [==============================] - 24s 3s/step - loss: 0.1815 - acc: 0.9600 - val_loss: 2.5344 - val_acc: 0.5664\n",
            "Epoch 85/100\n",
            "8/8 [==============================] - 23s 3s/step - loss: 0.2544 - acc: 0.8843 - val_loss: 2.0057 - val_acc: 0.5781\n",
            "Epoch 86/100\n",
            "8/8 [==============================] - 23s 3s/step - loss: 0.1473 - acc: 0.9499 - val_loss: 4.4696 - val_acc: 0.5000\n",
            "Epoch 87/100\n",
            "8/8 [==============================] - 27s 3s/step - loss: 0.1735 - acc: 0.9355 - val_loss: 3.1700 - val_acc: 0.5352\n",
            "Epoch 88/100\n",
            "8/8 [==============================] - 23s 3s/step - loss: 0.1746 - acc: 0.9232 - val_loss: 2.2178 - val_acc: 0.5742\n",
            "Epoch 89/100\n",
            "8/8 [==============================] - 23s 3s/step - loss: 0.1596 - acc: 0.9366 - val_loss: 3.1880 - val_acc: 0.5234\n",
            "Epoch 90/100\n",
            "8/8 [==============================] - 23s 3s/step - loss: 0.2664 - acc: 0.8877 - val_loss: 1.4892 - val_acc: 0.6211\n",
            "Epoch 91/100\n",
            "8/8 [==============================] - 23s 3s/step - loss: 0.1129 - acc: 0.9666 - val_loss: 3.3012 - val_acc: 0.5234\n",
            "Epoch 92/100\n",
            "8/8 [==============================] - 23s 3s/step - loss: 0.1235 - acc: 0.9477 - val_loss: 2.2189 - val_acc: 0.5898\n",
            "Epoch 93/100\n",
            "8/8 [==============================] - 23s 3s/step - loss: 0.1812 - acc: 0.9077 - val_loss: 1.7699 - val_acc: 0.6250\n",
            "Epoch 94/100\n",
            "8/8 [==============================] - 26s 3s/step - loss: 0.1338 - acc: 0.9404 - val_loss: 3.5911 - val_acc: 0.5352\n",
            "Epoch 95/100\n",
            "8/8 [==============================] - 20s 3s/step - loss: 0.2804 - acc: 0.9005 - val_loss: 2.0926 - val_acc: 0.5781\n",
            "Epoch 96/100\n",
            "8/8 [==============================] - 26s 3s/step - loss: 0.1205 - acc: 0.9521 - val_loss: 2.8618 - val_acc: 0.5469\n",
            "Epoch 97/100\n",
            "8/8 [==============================] - 23s 3s/step - loss: 0.1426 - acc: 0.9433 - val_loss: 2.9548 - val_acc: 0.5625\n",
            "Epoch 98/100\n",
            "8/8 [==============================] - 23s 3s/step - loss: 0.1572 - acc: 0.9466 - val_loss: 2.8647 - val_acc: 0.5352\n",
            "Epoch 99/100\n",
            "8/8 [==============================] - 24s 3s/step - loss: 0.1300 - acc: 0.9477 - val_loss: 3.4368 - val_acc: 0.5352\n",
            "Epoch 100/100\n",
            "8/8 [==============================] - 23s 3s/step - loss: 0.1154 - acc: 0.9499 - val_loss: 3.4658 - val_acc: 0.5391\n"
          ],
          "name": "stdout"
        }
      ]
    },
    {
      "cell_type": "code",
      "metadata": {
        "id": "7zNPRWOVJdOH",
        "colab_type": "code",
        "colab": {
          "base_uri": "https://localhost:8080/",
          "height": 545
        },
        "outputId": "59f8f4b0-e5c0-4a5b-9e91-28686b508139"
      },
      "source": [
        "import matplotlib.pyplot as plt\n",
        "acc = history.history['acc']\n",
        "val_acc = history.history['val_acc']\n",
        "loss = history.history['loss']\n",
        "val_loss = history.history['val_loss']\n",
        "\n",
        "epochs = range(len(acc))\n",
        "\n",
        "plt.plot(epochs, acc, 'r', label='Training accuracy')\n",
        "plt.plot(epochs, val_acc, 'b', label='Validation accuracy')\n",
        "plt.title('Training and validation accuracy')\n",
        "\n",
        "plt.figure()\n",
        "\n",
        "plt.plot(epochs, loss, 'r', label='Training Loss')\n",
        "plt.plot(epochs, val_loss, 'b', label='Validation Loss')\n",
        "plt.title('Training and validation loss')\n",
        "plt.legend()\n",
        "\n",
        "plt.show()"
      ],
      "execution_count": 7,
      "outputs": [
        {
          "output_type": "display_data",
          "data": {
            "image/png": "[encoded data removed]",
            "text/plain": [
              "<Figure size 432x288 with 1 Axes>"
            ]
          },
          "metadata": {
            "tags": []
          }
        },
        {
          "output_type": "display_data",
          "data": {
            "image/png": "[encoded data removed]",
            "text/plain": [
              "<Figure size 432x288 with 1 Axes>"
            ]
          },
          "metadata": {
            "tags": []
          }
        }
      ]
    }
  ]
}